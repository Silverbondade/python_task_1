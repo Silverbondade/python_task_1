{
 "cells": [
  {
   "cell_type": "markdown",
   "id": "aefbc659-e2c7-4a2d-97c7-77c3612a2a8a",
   "metadata": {},
   "source": [
    "** 1) Python String capitalize() Method**\n"
   ]
  },
  {
   "cell_type": "code",
   "execution_count": 3,
   "id": "dbadfcbf-ee6d-46ac-af02-7dcd5e741cdb",
   "metadata": {},
   "outputs": [
    {
     "name": "stdout",
     "output_type": "stream",
     "text": [
      "Hello my name is silver nice to meet you\n"
     ]
    }
   ],
   "source": [
    "str1 = 'hello my name is silver nice to meet you'\n",
    "x = str1.capitalize()\n",
    "print(x)"
   ]
  },
  {
   "cell_type": "markdown",
   "id": "8891face-0f86-4018-a151-c43f1fce1118",
   "metadata": {},
   "source": [
    "** 2) Python String casefold() Method**"
   ]
  },
  {
   "cell_type": "code",
   "execution_count": 11,
   "id": "c1e97b9c-5798-41f1-a253-6590aaf82844",
   "metadata": {},
   "outputs": [
    {
     "name": "stdout",
     "output_type": "stream",
     "text": [
      "im learning data analytics\n",
      "im learning data analytics\n"
     ]
    }
   ],
   "source": [
    "str1 = 'Im Learning Data Analytics'\n",
    "str2 = 'IM LEARNING DATA ANALYTICS'\n",
    "\n",
    "x1 = str1.casefold()\n",
    "x2 = str2.casefold()\n",
    "print(x1)\n",
    "print(x2)"
   ]
  },
  {
   "cell_type": "markdown",
   "id": "200313f4-2c42-4e16-86a0-c1ee648376d9",
   "metadata": {},
   "source": [
    "**3) Python String center() Method**"
   ]
  },
  {
   "cell_type": "code",
   "execution_count": 9,
   "id": "cb46a5d6-1e5d-471c-856c-eb221e199de1",
   "metadata": {},
   "outputs": [
    {
     "name": "stdout",
     "output_type": "stream",
     "text": [
      "       ARC Technologies       \n"
     ]
    }
   ],
   "source": [
    "str1 = 'ARC Technologies'\n",
    "x = str1.center(30)\n",
    "print(x)"
   ]
  },
  {
   "cell_type": "markdown",
   "id": "830c0c45-0dfe-4295-a492-bfd4c1c92e39",
   "metadata": {},
   "source": [
    "**4) Python String count() Method**"
   ]
  },
  {
   "cell_type": "code",
   "execution_count": 22,
   "id": "f117f064-1810-4695-a847-3444f4fd8c04",
   "metadata": {},
   "outputs": [
    {
     "name": "stdout",
     "output_type": "stream",
     "text": [
      "2\n"
     ]
    }
   ],
   "source": [
    "str1 = 'hello Im silver pc ans silver is my real name'\n",
    "x = str1.count('silver')\n",
    "print(x)"
   ]
  },
  {
   "cell_type": "markdown",
   "id": "65cdbb33-bc30-4e50-be56-ec519c907605",
   "metadata": {},
   "source": [
    "** 5) Python String encode() Method**"
   ]
  },
  {
   "cell_type": "code",
   "execution_count": 24,
   "id": "b826539f-1f83-4ad6-bfda-846d1e3e3cf1",
   "metadata": {},
   "outputs": [
    {
     "name": "stdout",
     "output_type": "stream",
     "text": [
      "b'cycling is healthy exercise'\n"
     ]
    }
   ],
   "source": [
    "str1 = 'cycling is healthy exercise'\n",
    "x = str1.encode()\n",
    "print(x)"
   ]
  },
  {
   "cell_type": "markdown",
   "id": "309dc686-b42b-4ecc-9fa8-2bd9b9e3349e",
   "metadata": {},
   "source": [
    "** 6) Python String endswith() Method**"
   ]
  },
  {
   "cell_type": "code",
   "execution_count": 34,
   "id": "d745998b-ce7c-498c-8ad5-cb9922aa2f8b",
   "metadata": {},
   "outputs": [
    {
     "name": "stdout",
     "output_type": "stream",
     "text": [
      "True\n"
     ]
    }
   ],
   "source": [
    "str1 = 'do i like to do craft?'\n",
    "x = str1.endswith('?')\n",
    "print(x)"
   ]
  },
  {
   "cell_type": "markdown",
   "id": "56be48f5-0cbf-4b6b-a3f3-31e6340907fe",
   "metadata": {},
   "source": [
    "** 7) Python String expandtabs() Method**\r\n"
   ]
  },
  {
   "cell_type": "code",
   "execution_count": 38,
   "id": "9c292c51-3210-40fd-a67a-daf55e4c50c3",
   "metadata": {},
   "outputs": [
    {
     "name": "stdout",
     "output_type": "stream",
     "text": [
      "s i i v e\n"
     ]
    }
   ],
   "source": [
    "str1 = \"s\\ti\\ti\\tv\\te\"\n",
    "\n",
    "x =  str1.expandtabs(2)\n",
    "\n",
    "print(x)"
   ]
  },
  {
   "cell_type": "markdown",
   "id": "4bb77a58-9d38-4f37-9df2-5082f0786989",
   "metadata": {},
   "source": [
    "**8) Python String find() Method**"
   ]
  },
  {
   "cell_type": "code",
   "execution_count": 40,
   "id": "ab08f691-00f9-4c62-88a2-e2b133248419",
   "metadata": {},
   "outputs": [
    {
     "name": "stdout",
     "output_type": "stream",
     "text": [
      "8\n"
     ]
    }
   ],
   "source": [
    "str1 = 'welcome to my world'\n",
    "x = str1.find('t')\n",
    "print(x)"
   ]
  },
  {
   "cell_type": "markdown",
   "id": "5524ef3f-4eb8-4fd2-be4d-e051dcdd5fb7",
   "metadata": {},
   "source": [
    "**9) Python String format() Method**"
   ]
  },
  {
   "cell_type": "code",
   "execution_count": 60,
   "id": "bc91d85b-1c26-4fe7-9233-8bf9dd84e170",
   "metadata": {},
   "outputs": [
    {
     "name": "stdout",
     "output_type": "stream",
     "text": [
      "My phone has 2 covers\n"
     ]
    }
   ],
   "source": [
    "Str9='My phone has {multiple} covers'\n",
    "print(Str9.format(multiple=2))"
   ]
  },
  {
   "cell_type": "markdown",
   "id": "08f2dee5-e1eb-4db6-a76a-3ed6117ad4a1",
   "metadata": {},
   "source": [
    "** 10) Python String index() Method**"
   ]
  },
  {
   "cell_type": "code",
   "execution_count": 62,
   "id": "2f7fc05f-c54d-4695-a7ed-05f8c76c8198",
   "metadata": {},
   "outputs": [
    {
     "name": "stdout",
     "output_type": "stream",
     "text": [
      "17\n"
     ]
    }
   ],
   "source": [
    "str10 = 'dont say that is impossible'\n",
    "x = str10.index('impossible')\n",
    "print(x)"
   ]
  },
  {
   "cell_type": "code",
   "execution_count": null,
   "id": "b64f553b-5710-4392-abc7-ed0419833e35",
   "metadata": {},
   "outputs": [],
   "source": []
  }
 ],
 "metadata": {
  "kernelspec": {
   "display_name": "Python 3 (ipykernel)",
   "language": "python",
   "name": "python3"
  },
  "language_info": {
   "codemirror_mode": {
    "name": "ipython",
    "version": 3
   },
   "file_extension": ".py",
   "mimetype": "text/x-python",
   "name": "python",
   "nbconvert_exporter": "python",
   "pygments_lexer": "ipython3",
   "version": "3.12.4"
  }
 },
 "nbformat": 4,
 "nbformat_minor": 5
}
